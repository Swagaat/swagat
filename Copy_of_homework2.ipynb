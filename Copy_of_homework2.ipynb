{
  "nbformat": 4,
  "nbformat_minor": 0,
  "metadata": {
    "colab": {
      "provenance": [],
      "collapsed_sections": [],
      "authorship_tag": "ABX9TyM9PnL1pQ3NKaLNwEEGJ8U+",
      "include_colab_link": true
    },
    "kernelspec": {
      "name": "python3",
      "display_name": "Python 3"
    },
    "language_info": {
      "name": "python"
    }
  },
  "cells": [
    {
      "cell_type": "markdown",
      "metadata": {
        "id": "view-in-github",
        "colab_type": "text"
      },
      "source": [
        "<a href=\"https://colab.research.google.com/github/Swagaat/swagat/blob/main/Copy_of_homework2.ipynb\" target=\"_parent\"><img src=\"https://colab.research.google.com/assets/colab-badge.svg\" alt=\"Open In Colab\"/></a>"
      ]
    },
    {
      "cell_type": "code",
      "source": [
        "def main():\n",
        "\n",
        "    Text = input(\"Enter any word: \").lower()\n",
        "    Value = int(input(\"Enter the value for key: \")) # use int(), don't eval unless you read more about it\n",
        "    EorD = input(\" Enter to encrypt (e) or to decrypt (d): \")\n",
        "    Message = \"\"\n",
        "\n",
        "    for ch in Text:\n",
        "     if EorD == \"e\":\n",
        "        \n",
        "            Message += chr((ord(ch) - 97 + Value)%26 + 97)\n",
        "     elif EorD ==\"d\":\n",
        "            Message += chr((ord(ch) - 97 - Value)%26 + 97)\n",
        "    \n",
        "    print(\"The given input is:\", Text, \"to be:\", EorD, \"with the key value\", Value, \"To make the new message:\", Message)\n",
        "\n",
        "main()"
      ],
      "metadata": {
        "id": "3uWqLiR8gFKB"
      },
      "execution_count": null,
      "outputs": []
    },
    {
      "cell_type": "code",
      "source": [
        "lst = [4, 2, 5, 6]\n",
        "\n",
        "i = [str(integer) for integer in lst]\n",
        "a_string = \"\".join(i)\n",
        "\n",
        "res = int(a_string)\n",
        "a=1\n",
        "sum=res+1\n",
        "print(sum)\n",
        "num = sum\n",
        "\n",
        "print(\"The number after addition is \" + str(num))\n",
        "res1 = [int(x) for x in str(num)]\n",
        "print(\"The list from number is \" + str(res1))"
      ],
      "metadata": {
        "id": "afZcgikPf9Bk"
      },
      "execution_count": null,
      "outputs": []
    },
    {
      "cell_type": "code",
      "source": [
        "def add_binary_nums(x,y):\n",
        "        max_len = max(len(x), len(y))\n",
        "\n",
        "        x = x.zfill(max_len)  # .Zfill() add 0 at the beginning of string until it reaches specified length.\n",
        "        y = y.zfill(max_len)\n",
        "\n",
        "        result = ''\n",
        "        carryover = 0\n",
        "\n",
        "        for i in range(max_len-1, -1, -1):\n",
        "            r = carryover\n",
        "            r += 1 if x[i] == '1' else 0\n",
        "            r += 1 if y[i] == '1' else 0\n",
        "            result = ('1' if r % 2 == 1 else '0') + result\n",
        "            carryover = 0 if r < 2 else 1       \n",
        "\n",
        "        if carryover !=0 : result = '1' + result\n",
        "\n",
        "        return result.zfill(max_len)\n",
        "    \n",
        "print(add_binary_nums('1011', '10'))"
      ],
      "metadata": {
        "colab": {
          "base_uri": "https://localhost:8080/"
        },
        "id": "33GtQLGo7oBG",
        "outputId": "e55b1759-ff58-482c-b9d0-84203a39048d"
      },
      "execution_count": null,
      "outputs": [
        {
          "output_type": "stream",
          "name": "stdout",
          "text": [
            "1101\n"
          ]
        }
      ]
    },
    {
      "cell_type": "code",
      "source": [
        "import math\n",
        "n=eval(input(\"The given input is: \"))\n",
        "def Div(swag):\n",
        " sum = 0;\n",
        " for i in range(1, swag):\n",
        "  if(swag % i==0):\n",
        "   sum=sum+i\n",
        " return sum;\n",
        "def amicable(iteration):\n",
        " end = 0\n",
        " for i in range(1, iteration):\n",
        "  currentDivs = Div(int(i));\n",
        "  resultDivs = Div(currentDivs);\n",
        "  if (i == resultDivs and currentDivs != resultDivs):\n",
        "   if(i > n):\n",
        "    print(i)\n",
        "    end = i\n",
        "    return i\n",
        "    break\n",
        " if(end == 0):\n",
        "   amicable(iteration*2)\n",
        "def amc(n):\n",
        "  final_result = amicable(1500);\n",
        "amc(n)"
      ],
      "metadata": {
        "id": "Ncfyt36Xf2ds",
        "colab": {
          "base_uri": "https://localhost:8080/"
        },
        "outputId": "4406dc49-46b7-49d9-e9dd-359e7029023d"
      },
      "execution_count": null,
      "outputs": [
        {
          "output_type": "stream",
          "name": "stdout",
          "text": [
            "The given input is: 284\n",
            "1184\n"
          ]
        }
      ]
    }
  ]
}